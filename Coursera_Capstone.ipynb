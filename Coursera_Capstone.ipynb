{
 "cells": [
  {
   "cell_type": "markdown",
   "metadata": {},
   "source": [
    "# Coursera Capstone Project\n",
    "\n",
    "## Battle of the Neighborhoods\n",
    "\n",
    "\n",
    "\n",
    "### Introduction:\n",
    "\n",
    "A restauranteer is seeking to open a new restaurant.  The restauranteer would like to open a new location in the Charlotte area but doesn't know what area to invest in.  He hopes to open in an area that currently lacks restaurant venues and is in an area easily accessible (near public transportation) for customers.\n",
    "\n",
    "### Data:\n",
    "\n",
    "The new location's area will be chosen by the results of a k-means cluster analysis of Charlotte's 199 \"Neighborhood Statistical Areas\" (https://en.wikipedia.org/wiki/List_of_Charlotte_neighborhoods).  These neighborhood areas wwill be clustered on the basis of top venues in each area obtained from the Foursquare API.  Geographical locations of the neighborhood will be retrieved with the function geocoder from the geopy package in python.  The cluster analysis will be completed with the KMeans function from the sklearn package.\n",
    "\n",
    "\n"
   ]
  },
  {
   "cell_type": "code",
   "execution_count": null,
   "metadata": {},
   "outputs": [],
   "source": []
  }
 ],
 "metadata": {
  "kernelspec": {
   "display_name": "Python 3",
   "language": "python",
   "name": "python3"
  },
  "language_info": {
   "codemirror_mode": {
    "name": "ipython",
    "version": 3
   },
   "file_extension": ".py",
   "mimetype": "text/x-python",
   "name": "python",
   "nbconvert_exporter": "python",
   "pygments_lexer": "ipython3",
   "version": "3.6.5"
  }
 },
 "nbformat": 4,
 "nbformat_minor": 2
}
