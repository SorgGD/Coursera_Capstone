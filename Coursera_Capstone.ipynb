{
 "cells": [
  {
   "cell_type": "markdown",
   "metadata": {},
   "source": [
    "# Coursera Capstone Project\n",
    "\n",
    "## Battle of the Neighborhoods\n",
    "\n",
    "\n",
    "\n",
    "### Introduction:\n",
    "\n",
    "A restauranteer is seeking to open a new restaurant.  The restauranteer would like to open a new location in the Charlotte area but doesn't know what area to invest in.  He hopes to open in an area that currently lacks restaurant venues and is in an area easily accessible (near public transportation) for their future customers.\n",
    "\n",
    "Charlotte is the most populous metropolitan area in North Carolina, and 15th most populous in the United States.  The population here is growing rapidly, with the US Census Bureau ranking it as the top area for millennial population growth from 2005 to 2015.  Millennials are always looking for that \"next trendy restaraunt\" in neighborhoods they may be unfamiliar with.  In addition, millennials are less likely to own personal transportation as compared to their predecessors. Together, these facts make targetting an area for a restaurant that is easy for millennials to travel to via public transportation important.\n",
    "\n",
    "### Data:\n",
    "\n",
    "The new location's area will be chosen by the results of a k-means cluster analysis of Charlotte's Zip Codes ([Link to Zip Codes online](https://www.zipcodestogo.com/North%20Carolina/).  These zip codes will be clustered on the basis of top venues in each area obtained from the Foursquare API.  Geographical locations of the neighborhood will be retrieved with the function geocoder from the geopy package in python.  The cluster analysis will be completed with the KMeans function from the sklearn package.\n",
    "\n"
   ]
  },
  {
   "cell_type": "code",
   "execution_count": 3,
   "metadata": {},
   "outputs": [],
   "source": [
    "import numpy as np # library to handle data in a vectorized manner\n",
    "\n",
    "import pandas as pd # library for data analsysis\n",
    "\n",
    "import json # library to handle JSON files\n",
    "\n",
    "from geopy.geocoders import Nominatim # convert an address into latitude and longitude values\n",
    "\n",
    "import requests # library to handle requests\n",
    "\n",
    "from bs4 import BeautifulSoup\n",
    "\n",
    "from pandas.io.json import json_normalize # tranform JSON file into a pandas dataframe\n",
    "\n",
    "# Matplotlib and associated plotting modules\n",
    "import matplotlib.cm as cm\n",
    "import matplotlib.colors as colors\n",
    "\n",
    "# import k-means from clustering stage\n",
    "from sklearn.cluster import KMeans\n",
    "\n",
    "import folium # map rendering library\n"
   ]
  },
  {
   "cell_type": "code",
   "execution_count": 41,
   "metadata": {},
   "outputs": [
    {
     "name": "stdout",
     "output_type": "stream",
     "text": [
      "1    Zip Code            City\n",
      "0       27006         Advance\n",
      "1       27007          Ararat\n",
      "2       27009    Belews Creek\n",
      "3       27010        Bethania\n",
      "4       27011       Boonville\n",
      "5       27012        Clemmons\n",
      "6       27013       Cleveland\n",
      "7       27014       Cooleemee\n",
      "8       27016         Danbury\n",
      "9       27017          Dobson\n",
      "10      27018       East Bend\n",
      "11      27019       Germanton\n",
      "12      27020    Hamptonville\n",
      "13      27021            King\n",
      "14      27022     Lawsonville\n",
      "15      27023      Lewisville\n",
      "16      27024          Lowgap\n",
      "17      27025         Madison\n",
      "18      27027         Mayodan\n",
      "19      27028      Mocksville\n",
      "20      27030      Mount Airy\n",
      "21      27031    White Plains\n",
      "22      27040       Pfafftown\n",
      "23      27041  Pilot Mountain\n",
      "24      27042       Pine Hall\n",
      "25      27043        Pinnacle\n",
      "26      27045      Rural Hall\n",
      "27      27046     Sandy Ridge\n",
      "28      27047          Siloam\n",
      "29      27048      Stoneville\n",
      "...       ...             ...\n",
      "1061    28782           Tryon\n",
      "1062    28783      Tuckasegee\n",
      "1063    28784          Tuxedo\n",
      "1064    28785     Waynesville\n",
      "1065    28786     Waynesville\n",
      "1066    28787     Weaverville\n",
      "1067    28788         Webster\n",
      "1068    28789        Whittier\n",
      "1069    28790        Zirconia\n",
      "1070    28791  Hendersonville\n",
      "1071    28792  Hendersonville\n",
      "1072    28793  Hendersonville\n",
      "1073    28801       Asheville\n",
      "1074    28802       Asheville\n",
      "1075    28803       Asheville\n",
      "1076    28804       Asheville\n",
      "1077    28805       Asheville\n",
      "1078    28806       Asheville\n",
      "1079    28810       Asheville\n",
      "1080    28813       Asheville\n",
      "1081    28814       Asheville\n",
      "1082    28815       Asheville\n",
      "1083    28816       Asheville\n",
      "1084    28901         Andrews\n",
      "1085    28902       Brasstown\n",
      "1086    28903       Culberson\n",
      "1087    28904      Hayesville\n",
      "1088    28905          Marble\n",
      "1089    28906          Murphy\n",
      "1090    28909           Warne\n",
      "\n",
      "[1091 rows x 2 columns]\n"
     ]
    }
   ],
   "source": [
    "table = pd.read_html('https://www.zipcodestogo.com/North%20Carolina/')[1]\n",
    "table.columns = table.iloc[1]\n",
    "table = table[2:]\n",
    "table = table.drop(['Zip Code Map', 'County'], axis=1).reset_index(drop=True)\n",
    "print(table)"
   ]
  },
  {
   "cell_type": "code",
   "execution_count": null,
   "metadata": {},
   "outputs": [],
   "source": []
  }
 ],
 "metadata": {
  "kernelspec": {
   "display_name": "Python 3",
   "language": "python",
   "name": "python3"
  },
  "language_info": {
   "codemirror_mode": {
    "name": "ipython",
    "version": 3
   },
   "file_extension": ".py",
   "mimetype": "text/x-python",
   "name": "python",
   "nbconvert_exporter": "python",
   "pygments_lexer": "ipython3",
   "version": "3.6.5"
  }
 },
 "nbformat": 4,
 "nbformat_minor": 2
}
